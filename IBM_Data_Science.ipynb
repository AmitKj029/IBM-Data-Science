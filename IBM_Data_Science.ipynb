{
  "nbformat": 4,
  "nbformat_minor": 0,
  "metadata": {
    "colab": {
      "provenance": []
    },
    "kernelspec": {
      "name": "python3",
      "display_name": "Python 3"
    },
    "language_info": {
      "name": "python"
    }
  },
  "cells": [
    {
      "cell_type": "markdown",
      "source": [
        "Data Science Tools and Ecosystem"
      ],
      "metadata": {
        "id": "MhQdKcdpb3Re"
      }
    },
    {
      "cell_type": "markdown",
      "source": [
        "This notebook summarizes popular languages, libraries, and tools used in Data Science.  \n",
        "It also demonstrates simple arithmetic operations and unit conversions."
      ],
      "metadata": {
        "id": "mFaqOn-jcHpC"
      }
    },
    {
      "cell_type": "markdown",
      "source": [
        "Popular Data Science Languages\n",
        "\n",
        "Python\n",
        "R\n",
        "SQL\n",
        "Scala\n",
        "Java\n",
        "C++\n",
        "Julia\n",
        "JavaScript\n",
        "PHP\n",
        "Go\n",
        "Ruby\n",
        "Visual Basic\n",
        ""
      ],
      "metadata": {
        "id": "HU84FQ59cQ19"
      }
    },
    {
      "cell_type": "markdown",
      "source": [
        "Common Data Science Libraries\n",
        "\n",
        "Pandas\n",
        "\n",
        "Numpy\n",
        "\n",
        "Matplotlib\n",
        "\n",
        "Seaborn\n",
        "\n",
        "Scikit-learn\n",
        "\n",
        "Keras\n",
        "\n",
        "TensorFlow\n",
        "\n",
        "PyTorch\n",
        "\n",
        "Apache Spark\n",
        "\n",
        "Vegas\n",
        "\n",
        "Big DL\n",
        "\n",
        "Ggplot2"
      ],
      "metadata": {
        "id": "My3lw1iHcYf6"
      }
    },
    {
      "cell_type": "markdown",
      "source": [
        "Data Science Tools\n",
        "\n",
        "| Tool            | Category          |\n",
        "|-----------------|-------------------|\n",
        "| Jupyter Notebook| Interactive coding|\n",
        "| RStudio         | IDE for R         |\n",
        "| Apache Spark    | Big Data engine   |\n",
        "| Tableau         | Visualization     |"
      ],
      "metadata": {
        "id": "ZVAOWGEzceBg"
      }
    },
    {
      "cell_type": "markdown",
      "source": [
        "Below are examples of using Python to perform basic math operations such as multiplication and addition."
      ],
      "metadata": {
        "id": "kIslVzEMcvMl"
      }
    },
    {
      "cell_type": "code",
      "source": [
        "#arithmetic operation sum\n",
        "result = (3*4) + 5\n",
        "result"
      ],
      "metadata": {
        "colab": {
          "base_uri": "https://localhost:8080/"
        },
        "id": "J2WfSotYcz9B",
        "outputId": "ef885b4c-0a7e-4750-df14-cb2ecd490fa5"
      },
      "execution_count": 6,
      "outputs": [
        {
          "output_type": "execute_result",
          "data": {
            "text/plain": [
              "17"
            ]
          },
          "metadata": {},
          "execution_count": 6
        }
      ]
    },
    {
      "cell_type": "code",
      "source": [
        "#arithmetic operation division\n",
        "minutes = 200\n",
        "hours = minutes/60\n",
        "hours"
      ],
      "metadata": {
        "colab": {
          "base_uri": "https://localhost:8080/"
        },
        "id": "P3ItWdrvdN1A",
        "outputId": "b2d7da14-4f08-4d85-febe-c84aa956adcd"
      },
      "execution_count": 7,
      "outputs": [
        {
          "output_type": "execute_result",
          "data": {
            "text/plain": [
              "3.3333333333333335"
            ]
          },
          "metadata": {},
          "execution_count": 7
        }
      ]
    },
    {
      "cell_type": "markdown",
      "source": [
        "Objectives\n",
        "- Add comments to code cells\n",
        "- Create markdown cells\n",
        "- Add ordered and unordered lists to markdown cells\n",
        "- Format content of markdown cells with heading styles"
      ],
      "metadata": {
        "id": "Bb4GhwUKdb6x"
      }
    },
    {
      "cell_type": "markdown",
      "source": [
        "Lakshmi Holla\n",
        "\n",
        "Nivedita Pandith"
      ],
      "metadata": {
        "id": "4QokGMqJddPZ"
      }
    },
    {
      "cell_type": "code",
      "source": [],
      "metadata": {
        "id": "KiSA8Db8dhHa"
      },
      "execution_count": null,
      "outputs": []
    }
  ]
}