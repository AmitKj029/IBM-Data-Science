{
  "nbformat": 4,
  "nbformat_minor": 0,
  "metadata": {
    "colab": {
      "provenance": []
    },
    "kernelspec": {
      "name": "python3",
      "display_name": "Python 3"
    },
    "language_info": {
      "name": "python"
    }
  },
  "cells": [
    {
      "cell_type": "markdown",
      "source": [
        "Data Science Tools"
      ],
      "metadata": {
        "id": "MhQdKcdpb3Re"
      }
    },
    {
      "cell_type": "markdown",
      "source": [
        "This notebook summarizes popular languages, libraries, and tools used in Data Science.  \n",
        "It also demonstrates simple arithmetic operations and unit conversions."
      ],
      "metadata": {
        "id": "mFaqOn-jcHpC"
      }
    },
    {
      "cell_type": "markdown",
      "source": [
        " Popular Data Science Languages\n",
        "- Python  \n",
        "- R  \n",
        "- SQL  \n",
        "- Julia  \n",
        "- Scala"
      ],
      "metadata": {
        "id": "HU84FQ59cQ19"
      }
    },
    {
      "cell_type": "markdown",
      "source": [
        "Common Data Science Libraries\n",
        "- Pandas  \n",
        "- NumPy  \n",
        "- Matplotlib  \n",
        "- Scikit-learn  \n",
        "- TensorFlow  \n",
        "- PyTorch"
      ],
      "metadata": {
        "id": "My3lw1iHcYf6"
      }
    },
    {
      "cell_type": "markdown",
      "source": [
        "Data Science Tools\n",
        "\n",
        "| Tool            | Category          |\n",
        "|-----------------|-------------------|\n",
        "| Jupyter Notebook| Interactive coding|\n",
        "| RStudio         | IDE for R         |\n",
        "| Apache Spark    | Big Data engine   |\n",
        "| Tableau         | Visualization     |"
      ],
      "metadata": {
        "id": "ZVAOWGEzceBg"
      }
    },
    {
      "cell_type": "markdown",
      "source": [
        "Arithmetic Expression Examples\n",
        "Below are examples of using Python to perform basic math operations such as multiplication and addition."
      ],
      "metadata": {
        "id": "kIslVzEMcvMl"
      }
    },
    {
      "cell_type": "code",
      "source": [
        "result = (1*2) + 3\n",
        "result"
      ],
      "metadata": {
        "colab": {
          "base_uri": "https://localhost:8080/"
        },
        "id": "J2WfSotYcz9B",
        "outputId": "f87f4c61-d28b-42ee-9dd7-635e5c35e4b0"
      },
      "execution_count": 4,
      "outputs": [
        {
          "output_type": "execute_result",
          "data": {
            "text/plain": [
              "5"
            ]
          },
          "metadata": {},
          "execution_count": 4
        }
      ]
    },
    {
      "cell_type": "code",
      "source": [
        "minutes = 120\n",
        "hours = minutes/60\n",
        "hours"
      ],
      "metadata": {
        "colab": {
          "base_uri": "https://localhost:8080/"
        },
        "id": "P3ItWdrvdN1A",
        "outputId": "0a3f694d-ac51-4177-a759-308addcfb31e"
      },
      "execution_count": 5,
      "outputs": [
        {
          "output_type": "execute_result",
          "data": {
            "text/plain": [
              "2.0"
            ]
          },
          "metadata": {},
          "execution_count": 5
        }
      ]
    },
    {
      "cell_type": "markdown",
      "source": [
        "Objectives\n",
        "- List popular languages for Data Science\n",
        "- Identify key libraries and tools\n",
        "- Demonstrate arithmetic operations\n",
        "- Convert minutes to hours using Python"
      ],
      "metadata": {
        "id": "Bb4GhwUKdb6x"
      }
    },
    {
      "cell_type": "markdown",
      "source": [
        "Amit Kumar Jana"
      ],
      "metadata": {
        "id": "4QokGMqJddPZ"
      }
    },
    {
      "cell_type": "code",
      "source": [],
      "metadata": {
        "id": "KiSA8Db8dhHa"
      },
      "execution_count": null,
      "outputs": []
    }
  ]
}